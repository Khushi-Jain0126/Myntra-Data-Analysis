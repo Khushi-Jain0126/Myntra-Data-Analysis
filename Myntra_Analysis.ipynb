{
 "cells": [
  {
   "cell_type": "code",
   "execution_count": 1,
   "metadata": {
    "jupyter": {
     "source_hidden": true
    }
   },
   "outputs": [
    {
     "name": "stdout",
     "output_type": "stream",
     "text": [
      "Data loaded from Pickle.\n"
     ]
    }
   ],
   "source": [
    "import pickle\n",
    "import os\n",
    "import pandas as pd\n",
    "\n",
    "file_path = \"Myntra dataset.xlsx\"\n",
    "pickle_file = \"saved_data.pkl\"\n",
    "\n",
    "# Try loading from Pickle, else load from Excel\n",
    "if os.path.exists(pickle_file):\n",
    "    with open(pickle_file, \"rb\") as f:\n",
    "        data = pickle.load(f)\n",
    "    df_customers, df_products, df_orders = data[\"df_customers\"], data[\"df_products\"], data[\"df_orders\"]\n",
    "    print(\"Data loaded from Pickle.\")\n",
    "else:\n",
    "    df_customers = pd.read_excel(file_path, sheet_name=\"dim_customers\")\n",
    "    df_products = pd.read_excel(file_path, sheet_name=\"dim_products\")\n",
    "    df_orders = pd.read_excel(file_path, sheet_name=\"fact_orders\")\n",
    "\n",
    "    # Save to Pickle for future use\n",
    "    with open(pickle_file, \"wb\") as f:\n",
    "        pickle.dump({\"df_customers\": df_customers, \"df_products\": df_products, \"df_orders\": df_orders}, f)\n",
    "    print(\"Data loaded from Excel and saved for next time.\")\n"
   ]
  },
  {
   "cell_type": "markdown",
   "metadata": {},
   "source": [
    "# 🛍️ **Myntra's Data Analysis **"
   ]
  },
  {
   "cell_type": "code",
   "execution_count": 3,
   "metadata": {
    "jupyter": {
     "source_hidden": true
    }
   },
   "outputs": [
    {
     "data": {
      "text/markdown": [
       "\n",
       "### 📊 Unveiling Insights from Sales & Customer Behavior  \n",
       "In this analysis, we explore:  \n",
       "🔹 **Which brands and categories drive the highest revenue?**  \n",
       "🔹 **How do discounts impact sales and customer behavior?**  \n",
       "🔹 **What are the trends in Average Order Value (AOV) across different demographics?**  \n",
       "🔹 **How do purchasing patterns vary between weekdays and weekends?**  \n",
       "🔹 **Which customer segments contribute the most to revenue?**  \n",
       "___  \n",
       "**By leveraging data-driven insights, we can optimize sales strategies, enhance customer engagement, and drive growth.**  \n",
       "Time to turn data into decisions—let’s explore the insights! \n"
      ],
      "text/plain": [
       "<IPython.core.display.Markdown object>"
      ]
     },
     "metadata": {},
     "output_type": "display_data"
    }
   ],
   "source": [
    "from IPython.display import display, Markdown\n",
    "\n",
    "markdown_text = \"\"\"\n",
    "### 📊 Unveiling Insights from Sales & Customer Behavior  \n",
    "In this analysis, we explore:  \n",
    "🔹 **Which brands and categories drive the highest revenue?**  \n",
    "🔹 **How do discounts impact sales and customer behavior?**  \n",
    "🔹 **What are the trends in Average Order Value (AOV) across different demographics?**  \n",
    "🔹 **How do purchasing patterns vary between weekdays and weekends?**  \n",
    "🔹 **Which customer segments contribute the most to revenue?**  \n",
    "___  \n",
    "**By leveraging data-driven insights, we can optimize sales strategies, enhance customer engagement, and drive growth.**  \n",
    "Time to turn data into decisions—let’s explore the insights! \n",
    "\"\"\"\n",
    "\n",
    "display(Markdown(markdown_text))\n"
   ]
  },
  {
   "cell_type": "code",
   "execution_count": 2,
   "metadata": {
    "id": "7t0F0PC0aMTS"
   },
   "outputs": [],
   "source": [
    "import numpy as np \n",
    "import matplotlib.pyplot as plt \n",
    "import seaborn as sns"
   ]
  },
  {
   "cell_type": "code",
   "execution_count": 3,
   "metadata": {
    "colab": {
     "base_uri": "https://localhost:8080/",
     "height": 423
    },
    "id": "5XWRI-PVaM-Z",
    "outputId": "3776b4da-ef85-4c03-95e9-24a7d59dde5a"
   },
   "outputs": [
    {
     "data": {
      "text/html": [
       "<div>\n",
       "<style scoped>\n",
       "    .dataframe tbody tr th:only-of-type {\n",
       "        vertical-align: middle;\n",
       "    }\n",
       "\n",
       "    .dataframe tbody tr th {\n",
       "        vertical-align: top;\n",
       "    }\n",
       "\n",
       "    .dataframe thead th {\n",
       "        text-align: right;\n",
       "    }\n",
       "</style>\n",
       "<table border=\"1\" class=\"dataframe\">\n",
       "  <thead>\n",
       "    <tr style=\"text-align: right;\">\n",
       "      <th></th>\n",
       "      <th>Product ID</th>\n",
       "      <th>Category</th>\n",
       "      <th>Sub-category</th>\n",
       "      <th>Product Name</th>\n",
       "      <th>Brand Name</th>\n",
       "      <th>Size</th>\n",
       "      <th>Color</th>\n",
       "      <th>Ratings</th>\n",
       "    </tr>\n",
       "  </thead>\n",
       "  <tbody>\n",
       "    <tr>\n",
       "      <th>0</th>\n",
       "      <td>P0001</td>\n",
       "      <td>Women</td>\n",
       "      <td>Topwear</td>\n",
       "      <td>T-Shirts</td>\n",
       "      <td>Roadster</td>\n",
       "      <td>40</td>\n",
       "      <td>Black</td>\n",
       "      <td>4</td>\n",
       "    </tr>\n",
       "    <tr>\n",
       "      <th>1</th>\n",
       "      <td>P0002</td>\n",
       "      <td>Women</td>\n",
       "      <td>Topwear</td>\n",
       "      <td>T-Shirts</td>\n",
       "      <td>Roadster</td>\n",
       "      <td>40</td>\n",
       "      <td>Blue</td>\n",
       "      <td>5</td>\n",
       "    </tr>\n",
       "    <tr>\n",
       "      <th>2</th>\n",
       "      <td>P0003</td>\n",
       "      <td>Women</td>\n",
       "      <td>Topwear</td>\n",
       "      <td>T-Shirts</td>\n",
       "      <td>Roadster</td>\n",
       "      <td>42</td>\n",
       "      <td>White</td>\n",
       "      <td>3</td>\n",
       "    </tr>\n",
       "    <tr>\n",
       "      <th>3</th>\n",
       "      <td>P0004</td>\n",
       "      <td>Women</td>\n",
       "      <td>Topwear</td>\n",
       "      <td>T-Shirts</td>\n",
       "      <td>Roadster</td>\n",
       "      <td>44</td>\n",
       "      <td>Green</td>\n",
       "      <td>2</td>\n",
       "    </tr>\n",
       "    <tr>\n",
       "      <th>4</th>\n",
       "      <td>P0005</td>\n",
       "      <td>Women</td>\n",
       "      <td>Topwear</td>\n",
       "      <td>T-Shirts</td>\n",
       "      <td>Puma</td>\n",
       "      <td>38</td>\n",
       "      <td>Olive</td>\n",
       "      <td>5</td>\n",
       "    </tr>\n",
       "    <tr>\n",
       "      <th>...</th>\n",
       "      <td>...</td>\n",
       "      <td>...</td>\n",
       "      <td>...</td>\n",
       "      <td>...</td>\n",
       "      <td>...</td>\n",
       "      <td>...</td>\n",
       "      <td>...</td>\n",
       "      <td>...</td>\n",
       "    </tr>\n",
       "    <tr>\n",
       "      <th>3066</th>\n",
       "      <td>P3067</td>\n",
       "      <td>Kids</td>\n",
       "      <td>Footwear</td>\n",
       "      <td>Sandals</td>\n",
       "      <td>Campus</td>\n",
       "      <td>9-12M</td>\n",
       "      <td>Olive</td>\n",
       "      <td>5</td>\n",
       "    </tr>\n",
       "    <tr>\n",
       "      <th>3067</th>\n",
       "      <td>P3068</td>\n",
       "      <td>Kids</td>\n",
       "      <td>Footwear</td>\n",
       "      <td>Sandals</td>\n",
       "      <td>Campus</td>\n",
       "      <td>9-12M</td>\n",
       "      <td>Teal</td>\n",
       "      <td>3</td>\n",
       "    </tr>\n",
       "    <tr>\n",
       "      <th>3068</th>\n",
       "      <td>P3069</td>\n",
       "      <td>Kids</td>\n",
       "      <td>Footwear</td>\n",
       "      <td>Sandals</td>\n",
       "      <td>Campus</td>\n",
       "      <td>3-6M</td>\n",
       "      <td>Sea Green</td>\n",
       "      <td>5</td>\n",
       "    </tr>\n",
       "    <tr>\n",
       "      <th>3069</th>\n",
       "      <td>P3070</td>\n",
       "      <td>Kids</td>\n",
       "      <td>Footwear</td>\n",
       "      <td>Sandals</td>\n",
       "      <td>Campus</td>\n",
       "      <td>3-6M</td>\n",
       "      <td>Turquoise Blue</td>\n",
       "      <td>5</td>\n",
       "    </tr>\n",
       "    <tr>\n",
       "      <th>3070</th>\n",
       "      <td>P3071</td>\n",
       "      <td>Kids</td>\n",
       "      <td>Footwear</td>\n",
       "      <td>Sandals</td>\n",
       "      <td>Campus</td>\n",
       "      <td>3-6M</td>\n",
       "      <td>Charcoal</td>\n",
       "      <td>4</td>\n",
       "    </tr>\n",
       "  </tbody>\n",
       "</table>\n",
       "<p>3071 rows × 8 columns</p>\n",
       "</div>"
      ],
      "text/plain": [
       "     Product ID Category Sub-category Product Name Brand Name   Size  \\\n",
       "0         P0001    Women      Topwear     T-Shirts   Roadster     40   \n",
       "1         P0002    Women      Topwear     T-Shirts   Roadster     40   \n",
       "2         P0003    Women      Topwear     T-Shirts   Roadster     42   \n",
       "3         P0004    Women      Topwear     T-Shirts   Roadster     44   \n",
       "4         P0005    Women      Topwear     T-Shirts       Puma     38   \n",
       "...         ...      ...          ...          ...        ...    ...   \n",
       "3066      P3067     Kids     Footwear      Sandals     Campus  9-12M   \n",
       "3067      P3068     Kids     Footwear      Sandals     Campus  9-12M   \n",
       "3068      P3069     Kids     Footwear      Sandals     Campus   3-6M   \n",
       "3069      P3070     Kids     Footwear      Sandals     Campus   3-6M   \n",
       "3070      P3071     Kids     Footwear      Sandals     Campus   3-6M   \n",
       "\n",
       "               Color  Ratings  \n",
       "0              Black        4  \n",
       "1               Blue        5  \n",
       "2              White        3  \n",
       "3              Green        2  \n",
       "4              Olive        5  \n",
       "...              ...      ...  \n",
       "3066           Olive        5  \n",
       "3067            Teal        3  \n",
       "3068       Sea Green        5  \n",
       "3069  Turquoise Blue        5  \n",
       "3070        Charcoal        4  \n",
       "\n",
       "[3071 rows x 8 columns]"
      ]
     },
     "execution_count": 3,
     "metadata": {},
     "output_type": "execute_result"
    }
   ],
   "source": [
    "products = pd.read_excel(\"Myntra dataset.xlsx\", sheet_name = \"dim_products\")\n",
    "products"
   ]
  },
  {
   "cell_type": "code",
   "execution_count": 4,
   "metadata": {
    "colab": {
     "base_uri": "https://localhost:8080/",
     "height": 423
    },
    "id": "S5HreaTvdM0i",
    "outputId": "6f3402f7-acf8-417a-b56c-46c370efd77b"
   },
   "outputs": [
    {
     "data": {
      "text/html": [
       "<div>\n",
       "<style scoped>\n",
       "    .dataframe tbody tr th:only-of-type {\n",
       "        vertical-align: middle;\n",
       "    }\n",
       "\n",
       "    .dataframe tbody tr th {\n",
       "        vertical-align: top;\n",
       "    }\n",
       "\n",
       "    .dataframe thead th {\n",
       "        text-align: right;\n",
       "    }\n",
       "</style>\n",
       "<table border=\"1\" class=\"dataframe\">\n",
       "  <thead>\n",
       "    <tr style=\"text-align: right;\">\n",
       "      <th></th>\n",
       "      <th>Customer ID</th>\n",
       "      <th>Customer Age</th>\n",
       "      <th>City</th>\n",
       "      <th>State</th>\n",
       "    </tr>\n",
       "  </thead>\n",
       "  <tbody>\n",
       "    <tr>\n",
       "      <th>0</th>\n",
       "      <td>C001</td>\n",
       "      <td>30</td>\n",
       "      <td>Mumbai</td>\n",
       "      <td>Maharashtra</td>\n",
       "    </tr>\n",
       "    <tr>\n",
       "      <th>1</th>\n",
       "      <td>C002</td>\n",
       "      <td>35</td>\n",
       "      <td>Mumbai</td>\n",
       "      <td>Maharashtra</td>\n",
       "    </tr>\n",
       "    <tr>\n",
       "      <th>2</th>\n",
       "      <td>C003</td>\n",
       "      <td>36</td>\n",
       "      <td>Mumbai</td>\n",
       "      <td>Maharashtra</td>\n",
       "    </tr>\n",
       "    <tr>\n",
       "      <th>3</th>\n",
       "      <td>C004</td>\n",
       "      <td>40</td>\n",
       "      <td>Pune</td>\n",
       "      <td>Maharashtra</td>\n",
       "    </tr>\n",
       "    <tr>\n",
       "      <th>4</th>\n",
       "      <td>C005</td>\n",
       "      <td>25</td>\n",
       "      <td>Pune</td>\n",
       "      <td>Maharashtra</td>\n",
       "    </tr>\n",
       "    <tr>\n",
       "      <th>...</th>\n",
       "      <td>...</td>\n",
       "      <td>...</td>\n",
       "      <td>...</td>\n",
       "      <td>...</td>\n",
       "    </tr>\n",
       "    <tr>\n",
       "      <th>95</th>\n",
       "      <td>C096</td>\n",
       "      <td>36</td>\n",
       "      <td>Jodhpur</td>\n",
       "      <td>Rajasthan</td>\n",
       "    </tr>\n",
       "    <tr>\n",
       "      <th>96</th>\n",
       "      <td>C097</td>\n",
       "      <td>37</td>\n",
       "      <td>Jodhpur</td>\n",
       "      <td>Rajasthan</td>\n",
       "    </tr>\n",
       "    <tr>\n",
       "      <th>97</th>\n",
       "      <td>C098</td>\n",
       "      <td>38</td>\n",
       "      <td>Udaipur</td>\n",
       "      <td>Rajasthan</td>\n",
       "    </tr>\n",
       "    <tr>\n",
       "      <th>98</th>\n",
       "      <td>C099</td>\n",
       "      <td>39</td>\n",
       "      <td>Udaipur</td>\n",
       "      <td>Rajasthan</td>\n",
       "    </tr>\n",
       "    <tr>\n",
       "      <th>99</th>\n",
       "      <td>C100</td>\n",
       "      <td>40</td>\n",
       "      <td>Udaipur</td>\n",
       "      <td>Rajasthan</td>\n",
       "    </tr>\n",
       "  </tbody>\n",
       "</table>\n",
       "<p>100 rows × 4 columns</p>\n",
       "</div>"
      ],
      "text/plain": [
       "   Customer ID  Customer Age     City        State\n",
       "0         C001            30   Mumbai  Maharashtra\n",
       "1         C002            35   Mumbai  Maharashtra\n",
       "2         C003            36   Mumbai  Maharashtra\n",
       "3         C004            40     Pune  Maharashtra\n",
       "4         C005            25     Pune  Maharashtra\n",
       "..         ...           ...      ...          ...\n",
       "95        C096            36  Jodhpur    Rajasthan\n",
       "96        C097            37  Jodhpur    Rajasthan\n",
       "97        C098            38  Udaipur    Rajasthan\n",
       "98        C099            39  Udaipur    Rajasthan\n",
       "99        C100            40  Udaipur    Rajasthan\n",
       "\n",
       "[100 rows x 4 columns]"
      ]
     },
     "execution_count": 4,
     "metadata": {},
     "output_type": "execute_result"
    }
   ],
   "source": [
    "customers = pd.read_excel(\"Myntra dataset.xlsx\", sheet_name = \"dim_customers\")\n",
    "customers"
   ]
  },
  {
   "cell_type": "code",
   "execution_count": 5,
   "metadata": {
    "colab": {
     "base_uri": "https://localhost:8080/"
    },
    "id": "7nFlQ_wgePRF",
    "outputId": "f54bb2e8-d340-4593-8bf9-aff8c09db881"
   },
   "outputs": [
    {
     "name": "stdout",
     "output_type": "stream",
     "text": [
      "<class 'pandas.core.frame.DataFrame'>\n",
      "RangeIndex: 100 entries, 0 to 99\n",
      "Data columns (total 4 columns):\n",
      " #   Column        Non-Null Count  Dtype \n",
      "---  ------        --------------  ----- \n",
      " 0   Customer ID   100 non-null    object\n",
      " 1   Customer Age  100 non-null    int64 \n",
      " 2   City          100 non-null    object\n",
      " 3   State         100 non-null    object\n",
      "dtypes: int64(1), object(3)\n",
      "memory usage: 3.3+ KB\n"
     ]
    }
   ],
   "source": [
    "customers.info()"
   ]
  },
  {
   "cell_type": "code",
   "execution_count": 6,
   "metadata": {
    "colab": {
     "base_uri": "https://localhost:8080/",
     "height": 423
    },
    "id": "fhHkV6cmeaJg",
    "outputId": "f67ffe85-664b-4212-9f72-3b4c4158c946"
   },
   "outputs": [
    {
     "data": {
      "text/html": [
       "<div>\n",
       "<style scoped>\n",
       "    .dataframe tbody tr th:only-of-type {\n",
       "        vertical-align: middle;\n",
       "    }\n",
       "\n",
       "    .dataframe tbody tr th {\n",
       "        vertical-align: top;\n",
       "    }\n",
       "\n",
       "    .dataframe thead th {\n",
       "        text-align: right;\n",
       "    }\n",
       "</style>\n",
       "<table border=\"1\" class=\"dataframe\">\n",
       "  <thead>\n",
       "    <tr style=\"text-align: right;\">\n",
       "      <th></th>\n",
       "      <th>Order ID</th>\n",
       "      <th>Customer ID</th>\n",
       "      <th>Product ID</th>\n",
       "      <th>Date</th>\n",
       "      <th>Original Price</th>\n",
       "      <th>Discount%</th>\n",
       "    </tr>\n",
       "  </thead>\n",
       "  <tbody>\n",
       "    <tr>\n",
       "      <th>0</th>\n",
       "      <td>OD0001</td>\n",
       "      <td>C001</td>\n",
       "      <td>P0001</td>\n",
       "      <td>2021-05-20</td>\n",
       "      <td>349</td>\n",
       "      <td>0.30</td>\n",
       "    </tr>\n",
       "    <tr>\n",
       "      <th>1</th>\n",
       "      <td>OD0002</td>\n",
       "      <td>C002</td>\n",
       "      <td>P0001</td>\n",
       "      <td>2021-01-19</td>\n",
       "      <td>350</td>\n",
       "      <td>0.30</td>\n",
       "    </tr>\n",
       "    <tr>\n",
       "      <th>2</th>\n",
       "      <td>OD0003</td>\n",
       "      <td>C003</td>\n",
       "      <td>P0001</td>\n",
       "      <td>2021-10-28</td>\n",
       "      <td>351</td>\n",
       "      <td>0.30</td>\n",
       "    </tr>\n",
       "    <tr>\n",
       "      <th>3</th>\n",
       "      <td>OD0004</td>\n",
       "      <td>C004</td>\n",
       "      <td>P0001</td>\n",
       "      <td>2021-05-20</td>\n",
       "      <td>352</td>\n",
       "      <td>0.25</td>\n",
       "    </tr>\n",
       "    <tr>\n",
       "      <th>4</th>\n",
       "      <td>OD0005</td>\n",
       "      <td>C005</td>\n",
       "      <td>P0001</td>\n",
       "      <td>2022-11-08</td>\n",
       "      <td>353</td>\n",
       "      <td>0.25</td>\n",
       "    </tr>\n",
       "    <tr>\n",
       "      <th>...</th>\n",
       "      <td>...</td>\n",
       "      <td>...</td>\n",
       "      <td>...</td>\n",
       "      <td>...</td>\n",
       "      <td>...</td>\n",
       "      <td>...</td>\n",
       "    </tr>\n",
       "    <tr>\n",
       "      <th>3495</th>\n",
       "      <td>OD3496</td>\n",
       "      <td>C081</td>\n",
       "      <td>P3071</td>\n",
       "      <td>2023-01-01</td>\n",
       "      <td>685</td>\n",
       "      <td>0.50</td>\n",
       "    </tr>\n",
       "    <tr>\n",
       "      <th>3496</th>\n",
       "      <td>OD3497</td>\n",
       "      <td>C082</td>\n",
       "      <td>P3071</td>\n",
       "      <td>2022-07-08</td>\n",
       "      <td>707</td>\n",
       "      <td>0.50</td>\n",
       "    </tr>\n",
       "    <tr>\n",
       "      <th>3497</th>\n",
       "      <td>OD3498</td>\n",
       "      <td>C083</td>\n",
       "      <td>P3071</td>\n",
       "      <td>2021-02-06</td>\n",
       "      <td>1819</td>\n",
       "      <td>0.50</td>\n",
       "    </tr>\n",
       "    <tr>\n",
       "      <th>3498</th>\n",
       "      <td>OD3499</td>\n",
       "      <td>C084</td>\n",
       "      <td>P3071</td>\n",
       "      <td>2021-07-18</td>\n",
       "      <td>856</td>\n",
       "      <td>0.50</td>\n",
       "    </tr>\n",
       "    <tr>\n",
       "      <th>3499</th>\n",
       "      <td>OD3500</td>\n",
       "      <td>C085</td>\n",
       "      <td>P3071</td>\n",
       "      <td>2023-03-15</td>\n",
       "      <td>1404</td>\n",
       "      <td>0.50</td>\n",
       "    </tr>\n",
       "  </tbody>\n",
       "</table>\n",
       "<p>3500 rows × 6 columns</p>\n",
       "</div>"
      ],
      "text/plain": [
       "     Order ID Customer ID Product ID       Date  Original Price  Discount%\n",
       "0      OD0001        C001      P0001 2021-05-20             349       0.30\n",
       "1      OD0002        C002      P0001 2021-01-19             350       0.30\n",
       "2      OD0003        C003      P0001 2021-10-28             351       0.30\n",
       "3      OD0004        C004      P0001 2021-05-20             352       0.25\n",
       "4      OD0005        C005      P0001 2022-11-08             353       0.25\n",
       "...       ...         ...        ...        ...             ...        ...\n",
       "3495   OD3496        C081      P3071 2023-01-01             685       0.50\n",
       "3496   OD3497        C082      P3071 2022-07-08             707       0.50\n",
       "3497   OD3498        C083      P3071 2021-02-06            1819       0.50\n",
       "3498   OD3499        C084      P3071 2021-07-18             856       0.50\n",
       "3499   OD3500        C085      P3071 2023-03-15            1404       0.50\n",
       "\n",
       "[3500 rows x 6 columns]"
      ]
     },
     "execution_count": 6,
     "metadata": {},
     "output_type": "execute_result"
    }
   ],
   "source": [
    "orders = pd.read_excel(\"Myntra dataset.xlsx\", sheet_name = \"fact_orders\")\n",
    "orders"
   ]
  },
  {
   "cell_type": "code",
   "execution_count": 7,
   "metadata": {
    "colab": {
     "base_uri": "https://localhost:8080/"
    },
    "id": "qgKvtvaWeegp",
    "outputId": "a974060a-1254-484d-d933-942dbbfb8e75"
   },
   "outputs": [
    {
     "name": "stdout",
     "output_type": "stream",
     "text": [
      "<class 'pandas.core.frame.DataFrame'>\n",
      "RangeIndex: 3071 entries, 0 to 3070\n",
      "Data columns (total 8 columns):\n",
      " #   Column        Non-Null Count  Dtype \n",
      "---  ------        --------------  ----- \n",
      " 0   Product ID    3071 non-null   object\n",
      " 1   Category      3071 non-null   object\n",
      " 2   Sub-category  3071 non-null   object\n",
      " 3   Product Name  3071 non-null   object\n",
      " 4   Brand Name    3071 non-null   object\n",
      " 5   Size          3071 non-null   object\n",
      " 6   Color         3071 non-null   object\n",
      " 7   Ratings       3071 non-null   int64 \n",
      "dtypes: int64(1), object(7)\n",
      "memory usage: 192.1+ KB\n"
     ]
    }
   ],
   "source": [
    "products.info()"
   ]
  },
  {
   "cell_type": "code",
   "execution_count": 8,
   "metadata": {
    "colab": {
     "base_uri": "https://localhost:8080/"
    },
    "id": "_WL1vfUVefPM",
    "outputId": "b1b5be57-8bf2-48bf-a2f7-36f49d30317b"
   },
   "outputs": [
    {
     "name": "stdout",
     "output_type": "stream",
     "text": [
      "<class 'pandas.core.frame.DataFrame'>\n",
      "RangeIndex: 100 entries, 0 to 99\n",
      "Data columns (total 4 columns):\n",
      " #   Column        Non-Null Count  Dtype \n",
      "---  ------        --------------  ----- \n",
      " 0   Customer ID   100 non-null    object\n",
      " 1   Customer Age  100 non-null    int64 \n",
      " 2   City          100 non-null    object\n",
      " 3   State         100 non-null    object\n",
      "dtypes: int64(1), object(3)\n",
      "memory usage: 3.3+ KB\n"
     ]
    }
   ],
   "source": [
    "customers.info()"
   ]
  },
  {
   "cell_type": "code",
   "execution_count": 9,
   "metadata": {
    "colab": {
     "base_uri": "https://localhost:8080/"
    },
    "id": "XIJBi_M3gU5e",
    "outputId": "b3a68106-d5f0-4fce-9c64-70e0380fbe0c"
   },
   "outputs": [
    {
     "name": "stdout",
     "output_type": "stream",
     "text": [
      "<class 'pandas.core.frame.DataFrame'>\n",
      "RangeIndex: 3500 entries, 0 to 3499\n",
      "Data columns (total 6 columns):\n",
      " #   Column          Non-Null Count  Dtype         \n",
      "---  ------          --------------  -----         \n",
      " 0   Order ID        3500 non-null   object        \n",
      " 1   Customer ID     3500 non-null   object        \n",
      " 2   Product ID      3500 non-null   object        \n",
      " 3   Date            3500 non-null   datetime64[ns]\n",
      " 4   Original Price  3500 non-null   int64         \n",
      " 5   Discount%       3500 non-null   float64       \n",
      "dtypes: datetime64[ns](1), float64(1), int64(1), object(3)\n",
      "memory usage: 164.2+ KB\n"
     ]
    }
   ],
   "source": [
    "orders.info()"
   ]
  },
  {
   "cell_type": "code",
   "execution_count": 10,
   "metadata": {
    "colab": {
     "base_uri": "https://localhost:8080/",
     "height": 300
    },
    "id": "FrWHJUx3giTO",
    "outputId": "b8f68432-7e05-4674-bd91-4f2753b8bd62"
   },
   "outputs": [
    {
     "data": {
      "text/html": [
       "<div>\n",
       "<style scoped>\n",
       "    .dataframe tbody tr th:only-of-type {\n",
       "        vertical-align: middle;\n",
       "    }\n",
       "\n",
       "    .dataframe tbody tr th {\n",
       "        vertical-align: top;\n",
       "    }\n",
       "\n",
       "    .dataframe thead th {\n",
       "        text-align: right;\n",
       "    }\n",
       "</style>\n",
       "<table border=\"1\" class=\"dataframe\">\n",
       "  <thead>\n",
       "    <tr style=\"text-align: right;\">\n",
       "      <th></th>\n",
       "      <th>Date</th>\n",
       "      <th>Original Price</th>\n",
       "      <th>Discount%</th>\n",
       "    </tr>\n",
       "  </thead>\n",
       "  <tbody>\n",
       "    <tr>\n",
       "      <th>count</th>\n",
       "      <td>3500</td>\n",
       "      <td>3500.000000</td>\n",
       "      <td>3500.000000</td>\n",
       "    </tr>\n",
       "    <tr>\n",
       "      <th>mean</th>\n",
       "      <td>2022-02-15 04:32:46.628571392</td>\n",
       "      <td>843.840000</td>\n",
       "      <td>0.355146</td>\n",
       "    </tr>\n",
       "    <tr>\n",
       "      <th>min</th>\n",
       "      <td>2021-01-01 00:00:00</td>\n",
       "      <td>123.000000</td>\n",
       "      <td>0.100000</td>\n",
       "    </tr>\n",
       "    <tr>\n",
       "      <th>25%</th>\n",
       "      <td>2021-07-23 00:00:00</td>\n",
       "      <td>456.000000</td>\n",
       "      <td>0.300000</td>\n",
       "    </tr>\n",
       "    <tr>\n",
       "      <th>50%</th>\n",
       "      <td>2022-02-19 00:00:00</td>\n",
       "      <td>634.000000</td>\n",
       "      <td>0.350000</td>\n",
       "    </tr>\n",
       "    <tr>\n",
       "      <th>75%</th>\n",
       "      <td>2022-09-06 00:00:00</td>\n",
       "      <td>1119.000000</td>\n",
       "      <td>0.420000</td>\n",
       "    </tr>\n",
       "    <tr>\n",
       "      <th>max</th>\n",
       "      <td>2023-03-31 00:00:00</td>\n",
       "      <td>22365.000000</td>\n",
       "      <td>0.550000</td>\n",
       "    </tr>\n",
       "    <tr>\n",
       "      <th>std</th>\n",
       "      <td>NaN</td>\n",
       "      <td>689.706016</td>\n",
       "      <td>0.100804</td>\n",
       "    </tr>\n",
       "  </tbody>\n",
       "</table>\n",
       "</div>"
      ],
      "text/plain": [
       "                                Date  Original Price    Discount%\n",
       "count                           3500     3500.000000  3500.000000\n",
       "mean   2022-02-15 04:32:46.628571392      843.840000     0.355146\n",
       "min              2021-01-01 00:00:00      123.000000     0.100000\n",
       "25%              2021-07-23 00:00:00      456.000000     0.300000\n",
       "50%              2022-02-19 00:00:00      634.000000     0.350000\n",
       "75%              2022-09-06 00:00:00     1119.000000     0.420000\n",
       "max              2023-03-31 00:00:00    22365.000000     0.550000\n",
       "std                              NaN      689.706016     0.100804"
      ]
     },
     "execution_count": 10,
     "metadata": {},
     "output_type": "execute_result"
    }
   ],
   "source": [
    "orders.describe()"
   ]
  },
  {
   "cell_type": "code",
   "execution_count": 11,
   "metadata": {
    "colab": {
     "base_uri": "https://localhost:8080/"
    },
    "id": "1YCqZQyUmvoC",
    "outputId": "791ac2c2-a060-46d8-814e-967f595d5ba3"
   },
   "outputs": [
    {
     "data": {
      "text/plain": [
       "np.int64(0)"
      ]
     },
     "execution_count": 11,
     "metadata": {},
     "output_type": "execute_result"
    }
   ],
   "source": [
    "#Check for duplicates\n",
    "products.duplicated().sum()\n",
    "customers.duplicated().sum()\n",
    "orders.duplicated().sum()"
   ]
  },
  {
   "cell_type": "code",
   "execution_count": 12,
   "metadata": {
    "colab": {
     "base_uri": "https://localhost:8080/"
    },
    "id": "TgLDz_milKLm",
    "outputId": "3e045fc4-c7b2-422f-a02b-409f5f401842"
   },
   "outputs": [
    {
     "data": {
      "text/plain": [
       "np.int64(0)"
      ]
     },
     "execution_count": 12,
     "metadata": {},
     "output_type": "execute_result"
    }
   ],
   "source": [
    "products.duplicated().sum()"
   ]
  },
  {
   "cell_type": "code",
   "execution_count": 13,
   "metadata": {
    "colab": {
     "base_uri": "https://localhost:8080/",
     "height": 423
    },
    "id": "4hhKBL0FlwHL",
    "outputId": "434a2e29-cf85-45af-f433-67e41714a1a8"
   },
   "outputs": [
    {
     "data": {
      "text/html": [
       "<div>\n",
       "<style scoped>\n",
       "    .dataframe tbody tr th:only-of-type {\n",
       "        vertical-align: middle;\n",
       "    }\n",
       "\n",
       "    .dataframe tbody tr th {\n",
       "        vertical-align: top;\n",
       "    }\n",
       "\n",
       "    .dataframe thead th {\n",
       "        text-align: right;\n",
       "    }\n",
       "</style>\n",
       "<table border=\"1\" class=\"dataframe\">\n",
       "  <thead>\n",
       "    <tr style=\"text-align: right;\">\n",
       "      <th></th>\n",
       "      <th>Product ID</th>\n",
       "      <th>Category</th>\n",
       "      <th>Sub-category</th>\n",
       "      <th>Product Name</th>\n",
       "      <th>Brand Name</th>\n",
       "      <th>Size</th>\n",
       "      <th>Color</th>\n",
       "      <th>Ratings</th>\n",
       "    </tr>\n",
       "  </thead>\n",
       "  <tbody>\n",
       "    <tr>\n",
       "      <th>0</th>\n",
       "      <td>P0001</td>\n",
       "      <td>Women</td>\n",
       "      <td>Topwear</td>\n",
       "      <td>T-Shirts</td>\n",
       "      <td>Roadster</td>\n",
       "      <td>40</td>\n",
       "      <td>Black</td>\n",
       "      <td>4</td>\n",
       "    </tr>\n",
       "    <tr>\n",
       "      <th>1</th>\n",
       "      <td>P0002</td>\n",
       "      <td>Women</td>\n",
       "      <td>Topwear</td>\n",
       "      <td>T-Shirts</td>\n",
       "      <td>Roadster</td>\n",
       "      <td>40</td>\n",
       "      <td>Blue</td>\n",
       "      <td>5</td>\n",
       "    </tr>\n",
       "    <tr>\n",
       "      <th>2</th>\n",
       "      <td>P0003</td>\n",
       "      <td>Women</td>\n",
       "      <td>Topwear</td>\n",
       "      <td>T-Shirts</td>\n",
       "      <td>Roadster</td>\n",
       "      <td>42</td>\n",
       "      <td>White</td>\n",
       "      <td>3</td>\n",
       "    </tr>\n",
       "    <tr>\n",
       "      <th>3</th>\n",
       "      <td>P0004</td>\n",
       "      <td>Women</td>\n",
       "      <td>Topwear</td>\n",
       "      <td>T-Shirts</td>\n",
       "      <td>Roadster</td>\n",
       "      <td>44</td>\n",
       "      <td>Green</td>\n",
       "      <td>2</td>\n",
       "    </tr>\n",
       "    <tr>\n",
       "      <th>4</th>\n",
       "      <td>P0005</td>\n",
       "      <td>Women</td>\n",
       "      <td>Topwear</td>\n",
       "      <td>T-Shirts</td>\n",
       "      <td>Puma</td>\n",
       "      <td>38</td>\n",
       "      <td>Olive</td>\n",
       "      <td>5</td>\n",
       "    </tr>\n",
       "    <tr>\n",
       "      <th>...</th>\n",
       "      <td>...</td>\n",
       "      <td>...</td>\n",
       "      <td>...</td>\n",
       "      <td>...</td>\n",
       "      <td>...</td>\n",
       "      <td>...</td>\n",
       "      <td>...</td>\n",
       "      <td>...</td>\n",
       "    </tr>\n",
       "    <tr>\n",
       "      <th>3066</th>\n",
       "      <td>P3067</td>\n",
       "      <td>Kids</td>\n",
       "      <td>Footwear</td>\n",
       "      <td>Sandals</td>\n",
       "      <td>Campus</td>\n",
       "      <td>9-12M</td>\n",
       "      <td>Olive</td>\n",
       "      <td>5</td>\n",
       "    </tr>\n",
       "    <tr>\n",
       "      <th>3067</th>\n",
       "      <td>P3068</td>\n",
       "      <td>Kids</td>\n",
       "      <td>Footwear</td>\n",
       "      <td>Sandals</td>\n",
       "      <td>Campus</td>\n",
       "      <td>9-12M</td>\n",
       "      <td>Teal</td>\n",
       "      <td>3</td>\n",
       "    </tr>\n",
       "    <tr>\n",
       "      <th>3068</th>\n",
       "      <td>P3069</td>\n",
       "      <td>Kids</td>\n",
       "      <td>Footwear</td>\n",
       "      <td>Sandals</td>\n",
       "      <td>Campus</td>\n",
       "      <td>3-6M</td>\n",
       "      <td>Sea Green</td>\n",
       "      <td>5</td>\n",
       "    </tr>\n",
       "    <tr>\n",
       "      <th>3069</th>\n",
       "      <td>P3070</td>\n",
       "      <td>Kids</td>\n",
       "      <td>Footwear</td>\n",
       "      <td>Sandals</td>\n",
       "      <td>Campus</td>\n",
       "      <td>3-6M</td>\n",
       "      <td>Turquoise Blue</td>\n",
       "      <td>5</td>\n",
       "    </tr>\n",
       "    <tr>\n",
       "      <th>3070</th>\n",
       "      <td>P3071</td>\n",
       "      <td>Kids</td>\n",
       "      <td>Footwear</td>\n",
       "      <td>Sandals</td>\n",
       "      <td>Campus</td>\n",
       "      <td>3-6M</td>\n",
       "      <td>Charcoal</td>\n",
       "      <td>4</td>\n",
       "    </tr>\n",
       "  </tbody>\n",
       "</table>\n",
       "<p>3071 rows × 8 columns</p>\n",
       "</div>"
      ],
      "text/plain": [
       "     Product ID Category Sub-category Product Name Brand Name   Size  \\\n",
       "0         P0001    Women      Topwear     T-Shirts   Roadster     40   \n",
       "1         P0002    Women      Topwear     T-Shirts   Roadster     40   \n",
       "2         P0003    Women      Topwear     T-Shirts   Roadster     42   \n",
       "3         P0004    Women      Topwear     T-Shirts   Roadster     44   \n",
       "4         P0005    Women      Topwear     T-Shirts       Puma     38   \n",
       "...         ...      ...          ...          ...        ...    ...   \n",
       "3066      P3067     Kids     Footwear      Sandals     Campus  9-12M   \n",
       "3067      P3068     Kids     Footwear      Sandals     Campus  9-12M   \n",
       "3068      P3069     Kids     Footwear      Sandals     Campus   3-6M   \n",
       "3069      P3070     Kids     Footwear      Sandals     Campus   3-6M   \n",
       "3070      P3071     Kids     Footwear      Sandals     Campus   3-6M   \n",
       "\n",
       "               Color  Ratings  \n",
       "0              Black        4  \n",
       "1               Blue        5  \n",
       "2              White        3  \n",
       "3              Green        2  \n",
       "4              Olive        5  \n",
       "...              ...      ...  \n",
       "3066           Olive        5  \n",
       "3067            Teal        3  \n",
       "3068       Sea Green        5  \n",
       "3069  Turquoise Blue        5  \n",
       "3070        Charcoal        4  \n",
       "\n",
       "[3071 rows x 8 columns]"
      ]
     },
     "execution_count": 13,
     "metadata": {},
     "output_type": "execute_result"
    }
   ],
   "source": [
    "products.drop_duplicates()"
   ]
  },
  {
   "cell_type": "code",
   "execution_count": 14,
   "metadata": {},
   "outputs": [],
   "source": [
    "# Converted order date to datetime\n",
    "orders[\"Date\"] = pd.to_datetime(orders[\"Date\"])"
   ]
  },
  {
   "cell_type": "code",
   "execution_count": 15,
   "metadata": {},
   "outputs": [],
   "source": [
    "# Calculated Total Price after Discount\n",
    "orders[\"Total Price\"] = orders[\"Original Price\"] - (orders[\"Original Price\"] * orders[\"Discount%\"])"
   ]
  },
  {
   "cell_type": "code",
   "execution_count": 16,
   "metadata": {},
   "outputs": [],
   "source": [
    "# Extract Month and Year for Aggregation\n",
    "orders[\"Month-Year\"] = orders[\"Date\"].dt.strftime(\"%Y-%m\")\n",
    "#orders[\"Order Value\"] = orders[\"Total Price\"]\n",
    "# Using 'Total Price' instead of 'Order Value' to avoid redundancy, \n",
    "# since Total Price already represents the final transaction amount after discounts."
   ]
  },
  {
   "cell_type": "code",
   "execution_count": 17,
   "metadata": {},
   "outputs": [],
   "source": [
    "gb = orders.groupby(\"Month-Year\").agg({\"Total Price\": \"sum\"}).rename(columns={\"Total Price\": \"Total Revenue\"})"
   ]
  },
  {
   "cell_type": "code",
   "execution_count": 18,
   "metadata": {},
   "outputs": [
    {
     "data": {
      "text/html": [
       "<div>\n",
       "<style scoped>\n",
       "    .dataframe tbody tr th:only-of-type {\n",
       "        vertical-align: middle;\n",
       "    }\n",
       "\n",
       "    .dataframe tbody tr th {\n",
       "        vertical-align: top;\n",
       "    }\n",
       "\n",
       "    .dataframe thead th {\n",
       "        text-align: right;\n",
       "    }\n",
       "</style>\n",
       "<table border=\"1\" class=\"dataframe\">\n",
       "  <thead>\n",
       "    <tr style=\"text-align: right;\">\n",
       "      <th></th>\n",
       "      <th>Order ID</th>\n",
       "      <th>Customer ID</th>\n",
       "      <th>Product ID</th>\n",
       "      <th>Date</th>\n",
       "      <th>Original Price</th>\n",
       "      <th>Discount%</th>\n",
       "      <th>Total Price</th>\n",
       "      <th>Month-Year</th>\n",
       "      <th>Category</th>\n",
       "      <th>Sub-category</th>\n",
       "      <th>Product Name</th>\n",
       "      <th>Brand Name</th>\n",
       "      <th>Size</th>\n",
       "      <th>Color</th>\n",
       "      <th>Ratings</th>\n",
       "    </tr>\n",
       "  </thead>\n",
       "  <tbody>\n",
       "    <tr>\n",
       "      <th>0</th>\n",
       "      <td>OD0001</td>\n",
       "      <td>C001</td>\n",
       "      <td>P0001</td>\n",
       "      <td>2021-05-20</td>\n",
       "      <td>349</td>\n",
       "      <td>0.30</td>\n",
       "      <td>244.30</td>\n",
       "      <td>2021-05</td>\n",
       "      <td>Women</td>\n",
       "      <td>Topwear</td>\n",
       "      <td>T-Shirts</td>\n",
       "      <td>Roadster</td>\n",
       "      <td>40</td>\n",
       "      <td>Black</td>\n",
       "      <td>4</td>\n",
       "    </tr>\n",
       "    <tr>\n",
       "      <th>1</th>\n",
       "      <td>OD0002</td>\n",
       "      <td>C002</td>\n",
       "      <td>P0001</td>\n",
       "      <td>2021-01-19</td>\n",
       "      <td>350</td>\n",
       "      <td>0.30</td>\n",
       "      <td>245.00</td>\n",
       "      <td>2021-01</td>\n",
       "      <td>Women</td>\n",
       "      <td>Topwear</td>\n",
       "      <td>T-Shirts</td>\n",
       "      <td>Roadster</td>\n",
       "      <td>40</td>\n",
       "      <td>Black</td>\n",
       "      <td>4</td>\n",
       "    </tr>\n",
       "    <tr>\n",
       "      <th>2</th>\n",
       "      <td>OD0003</td>\n",
       "      <td>C003</td>\n",
       "      <td>P0001</td>\n",
       "      <td>2021-10-28</td>\n",
       "      <td>351</td>\n",
       "      <td>0.30</td>\n",
       "      <td>245.70</td>\n",
       "      <td>2021-10</td>\n",
       "      <td>Women</td>\n",
       "      <td>Topwear</td>\n",
       "      <td>T-Shirts</td>\n",
       "      <td>Roadster</td>\n",
       "      <td>40</td>\n",
       "      <td>Black</td>\n",
       "      <td>4</td>\n",
       "    </tr>\n",
       "    <tr>\n",
       "      <th>3</th>\n",
       "      <td>OD0004</td>\n",
       "      <td>C004</td>\n",
       "      <td>P0001</td>\n",
       "      <td>2021-05-20</td>\n",
       "      <td>352</td>\n",
       "      <td>0.25</td>\n",
       "      <td>264.00</td>\n",
       "      <td>2021-05</td>\n",
       "      <td>Women</td>\n",
       "      <td>Topwear</td>\n",
       "      <td>T-Shirts</td>\n",
       "      <td>Roadster</td>\n",
       "      <td>40</td>\n",
       "      <td>Black</td>\n",
       "      <td>4</td>\n",
       "    </tr>\n",
       "    <tr>\n",
       "      <th>4</th>\n",
       "      <td>OD0005</td>\n",
       "      <td>C005</td>\n",
       "      <td>P0001</td>\n",
       "      <td>2022-11-08</td>\n",
       "      <td>353</td>\n",
       "      <td>0.25</td>\n",
       "      <td>264.75</td>\n",
       "      <td>2022-11</td>\n",
       "      <td>Women</td>\n",
       "      <td>Topwear</td>\n",
       "      <td>T-Shirts</td>\n",
       "      <td>Roadster</td>\n",
       "      <td>40</td>\n",
       "      <td>Black</td>\n",
       "      <td>4</td>\n",
       "    </tr>\n",
       "    <tr>\n",
       "      <th>...</th>\n",
       "      <td>...</td>\n",
       "      <td>...</td>\n",
       "      <td>...</td>\n",
       "      <td>...</td>\n",
       "      <td>...</td>\n",
       "      <td>...</td>\n",
       "      <td>...</td>\n",
       "      <td>...</td>\n",
       "      <td>...</td>\n",
       "      <td>...</td>\n",
       "      <td>...</td>\n",
       "      <td>...</td>\n",
       "      <td>...</td>\n",
       "      <td>...</td>\n",
       "      <td>...</td>\n",
       "    </tr>\n",
       "    <tr>\n",
       "      <th>3495</th>\n",
       "      <td>OD3496</td>\n",
       "      <td>C081</td>\n",
       "      <td>P3071</td>\n",
       "      <td>2023-01-01</td>\n",
       "      <td>685</td>\n",
       "      <td>0.50</td>\n",
       "      <td>342.50</td>\n",
       "      <td>2023-01</td>\n",
       "      <td>Kids</td>\n",
       "      <td>Footwear</td>\n",
       "      <td>Sandals</td>\n",
       "      <td>Campus</td>\n",
       "      <td>3-6M</td>\n",
       "      <td>Charcoal</td>\n",
       "      <td>4</td>\n",
       "    </tr>\n",
       "    <tr>\n",
       "      <th>3496</th>\n",
       "      <td>OD3497</td>\n",
       "      <td>C082</td>\n",
       "      <td>P3071</td>\n",
       "      <td>2022-07-08</td>\n",
       "      <td>707</td>\n",
       "      <td>0.50</td>\n",
       "      <td>353.50</td>\n",
       "      <td>2022-07</td>\n",
       "      <td>Kids</td>\n",
       "      <td>Footwear</td>\n",
       "      <td>Sandals</td>\n",
       "      <td>Campus</td>\n",
       "      <td>3-6M</td>\n",
       "      <td>Charcoal</td>\n",
       "      <td>4</td>\n",
       "    </tr>\n",
       "    <tr>\n",
       "      <th>3497</th>\n",
       "      <td>OD3498</td>\n",
       "      <td>C083</td>\n",
       "      <td>P3071</td>\n",
       "      <td>2021-02-06</td>\n",
       "      <td>1819</td>\n",
       "      <td>0.50</td>\n",
       "      <td>909.50</td>\n",
       "      <td>2021-02</td>\n",
       "      <td>Kids</td>\n",
       "      <td>Footwear</td>\n",
       "      <td>Sandals</td>\n",
       "      <td>Campus</td>\n",
       "      <td>3-6M</td>\n",
       "      <td>Charcoal</td>\n",
       "      <td>4</td>\n",
       "    </tr>\n",
       "    <tr>\n",
       "      <th>3498</th>\n",
       "      <td>OD3499</td>\n",
       "      <td>C084</td>\n",
       "      <td>P3071</td>\n",
       "      <td>2021-07-18</td>\n",
       "      <td>856</td>\n",
       "      <td>0.50</td>\n",
       "      <td>428.00</td>\n",
       "      <td>2021-07</td>\n",
       "      <td>Kids</td>\n",
       "      <td>Footwear</td>\n",
       "      <td>Sandals</td>\n",
       "      <td>Campus</td>\n",
       "      <td>3-6M</td>\n",
       "      <td>Charcoal</td>\n",
       "      <td>4</td>\n",
       "    </tr>\n",
       "    <tr>\n",
       "      <th>3499</th>\n",
       "      <td>OD3500</td>\n",
       "      <td>C085</td>\n",
       "      <td>P3071</td>\n",
       "      <td>2023-03-15</td>\n",
       "      <td>1404</td>\n",
       "      <td>0.50</td>\n",
       "      <td>702.00</td>\n",
       "      <td>2023-03</td>\n",
       "      <td>Kids</td>\n",
       "      <td>Footwear</td>\n",
       "      <td>Sandals</td>\n",
       "      <td>Campus</td>\n",
       "      <td>3-6M</td>\n",
       "      <td>Charcoal</td>\n",
       "      <td>4</td>\n",
       "    </tr>\n",
       "  </tbody>\n",
       "</table>\n",
       "<p>3500 rows × 15 columns</p>\n",
       "</div>"
      ],
      "text/plain": [
       "     Order ID Customer ID Product ID       Date  Original Price  Discount%  \\\n",
       "0      OD0001        C001      P0001 2021-05-20             349       0.30   \n",
       "1      OD0002        C002      P0001 2021-01-19             350       0.30   \n",
       "2      OD0003        C003      P0001 2021-10-28             351       0.30   \n",
       "3      OD0004        C004      P0001 2021-05-20             352       0.25   \n",
       "4      OD0005        C005      P0001 2022-11-08             353       0.25   \n",
       "...       ...         ...        ...        ...             ...        ...   \n",
       "3495   OD3496        C081      P3071 2023-01-01             685       0.50   \n",
       "3496   OD3497        C082      P3071 2022-07-08             707       0.50   \n",
       "3497   OD3498        C083      P3071 2021-02-06            1819       0.50   \n",
       "3498   OD3499        C084      P3071 2021-07-18             856       0.50   \n",
       "3499   OD3500        C085      P3071 2023-03-15            1404       0.50   \n",
       "\n",
       "      Total Price Month-Year Category Sub-category Product Name Brand Name  \\\n",
       "0          244.30    2021-05    Women      Topwear     T-Shirts   Roadster   \n",
       "1          245.00    2021-01    Women      Topwear     T-Shirts   Roadster   \n",
       "2          245.70    2021-10    Women      Topwear     T-Shirts   Roadster   \n",
       "3          264.00    2021-05    Women      Topwear     T-Shirts   Roadster   \n",
       "4          264.75    2022-11    Women      Topwear     T-Shirts   Roadster   \n",
       "...           ...        ...      ...          ...          ...        ...   \n",
       "3495       342.50    2023-01     Kids     Footwear      Sandals     Campus   \n",
       "3496       353.50    2022-07     Kids     Footwear      Sandals     Campus   \n",
       "3497       909.50    2021-02     Kids     Footwear      Sandals     Campus   \n",
       "3498       428.00    2021-07     Kids     Footwear      Sandals     Campus   \n",
       "3499       702.00    2023-03     Kids     Footwear      Sandals     Campus   \n",
       "\n",
       "      Size     Color  Ratings  \n",
       "0       40     Black        4  \n",
       "1       40     Black        4  \n",
       "2       40     Black        4  \n",
       "3       40     Black        4  \n",
       "4       40     Black        4  \n",
       "...    ...       ...      ...  \n",
       "3495  3-6M  Charcoal        4  \n",
       "3496  3-6M  Charcoal        4  \n",
       "3497  3-6M  Charcoal        4  \n",
       "3498  3-6M  Charcoal        4  \n",
       "3499  3-6M  Charcoal        4  \n",
       "\n",
       "[3500 rows x 15 columns]"
      ]
     },
     "execution_count": 18,
     "metadata": {},
     "output_type": "execute_result"
    }
   ],
   "source": [
    "df = pd.merge(left = orders, right= products, on = \"Product ID\", how = \"inner\" )\n",
    "df"
   ]
  },
  {
   "cell_type": "code",
   "execution_count": 23,
   "metadata": {},
   "outputs": [],
   "source": [
    "# Define Myntra Color Palette (Gradient Shades of Pink and Orange)\n",
    "myntra_palette = sns.color_palette([\"#ff3f6c\", \"#ff7996\", \"#ffb3c1\", \"#ff6200\", \"#ff914d\", \"#ffb27d\", \"#ffcc00\", \"#ff914d\", \"#ff7b00\", \"#ff6200\"])"
   ]
  },
  {
   "cell_type": "code",
   "execution_count": 24,
   "metadata": {},
   "outputs": [
    {
     "data": {
      "image/png": "[encoded data removed]",
      "text/plain": [
       "<Figure size 800x500 with 1 Axes>"
      ]
     },
     "metadata": {},
     "output_type": "display_data"
    }
   ],
   "source": [
    "# Define Top Selling Brands\n",
    "top_brands = df[\"Brand Name\"].value_counts().head(5)\n",
    "# Top Selling Brands\n",
    "plt.figure(figsize=(8,5))\n",
    "sns.barplot(x=top_brands.index, y=top_brands.values, hue=top_brands.index, palette=myntra_palette[:len(top_brands)], legend=False)\n",
    "plt.title(\"Top Selling Brands\")\n",
    "plt.ylabel(\"Total Orders\")\n",
    "plt.show()\n",
    "\n"
   ]
  },
  {
   "cell_type": "code",
   "execution_count": 75,
   "metadata": {
    "jupyter": {
     "source_hidden": true
    }
   },
   "outputs": [
    {
     "data": {
      "text/markdown": [
       "### Power Players: Invest in Proven Performers  \n",
       "**Insight:**  \n",
       "Puma, H&M, Roadster, Adidas, and Here&Now generate the most revenue.  \n",
       "\n",
       "**Recommendation:**  \n",
       "Strengthen partnerships, prioritize ad spend, and expand exclusive collections."
      ],
      "text/plain": [
       "<IPython.core.display.Markdown object>"
      ]
     },
     "metadata": {},
     "output_type": "display_data"
    }
   ],
   "source": [
    "from IPython.display import display, Markdown\n",
    "\n",
    "display(Markdown(\n",
    "    \"### Power Players: Invest in Proven Performers  \\n\"\n",
    "    \"**Insight:**  \\n\"\n",
    "    \"Puma, H&M, Roadster, Adidas, and Here&Now generate the most revenue.  \\n\\n\"\n",
    "    \"**Recommendation:**  \\n\"\n",
    "    \"Strengthen partnerships, prioritize ad spend, and expand exclusive collections.\"\n",
    "))\n"
   ]
  },
  {
   "cell_type": "code",
   "execution_count": 25,
   "metadata": {},
   "outputs": [
    {
     "data": {
      "text/html": [
       "<div>\n",
       "<style scoped>\n",
       "    .dataframe tbody tr th:only-of-type {\n",
       "        vertical-align: middle;\n",
       "    }\n",
       "\n",
       "    .dataframe tbody tr th {\n",
       "        vertical-align: top;\n",
       "    }\n",
       "\n",
       "    .dataframe thead th {\n",
       "        text-align: right;\n",
       "    }\n",
       "</style>\n",
       "<table border=\"1\" class=\"dataframe\">\n",
       "  <thead>\n",
       "    <tr style=\"text-align: right;\">\n",
       "      <th></th>\n",
       "      <th>Order ID</th>\n",
       "      <th>Customer ID</th>\n",
       "      <th>Product ID</th>\n",
       "      <th>Date</th>\n",
       "      <th>Original Price</th>\n",
       "      <th>Discount%</th>\n",
       "      <th>Total Price</th>\n",
       "      <th>Month-Year</th>\n",
       "      <th>Category</th>\n",
       "      <th>Sub-category</th>\n",
       "      <th>Product Name</th>\n",
       "      <th>Brand Name</th>\n",
       "      <th>Size</th>\n",
       "      <th>Color</th>\n",
       "      <th>Ratings</th>\n",
       "      <th>City</th>\n",
       "    </tr>\n",
       "  </thead>\n",
       "  <tbody>\n",
       "    <tr>\n",
       "      <th>0</th>\n",
       "      <td>OD0001</td>\n",
       "      <td>C001</td>\n",
       "      <td>P0001</td>\n",
       "      <td>2021-05-20</td>\n",
       "      <td>349</td>\n",
       "      <td>0.30</td>\n",
       "      <td>244.30</td>\n",
       "      <td>2021-05</td>\n",
       "      <td>Women</td>\n",
       "      <td>Topwear</td>\n",
       "      <td>T-Shirts</td>\n",
       "      <td>Roadster</td>\n",
       "      <td>40</td>\n",
       "      <td>Black</td>\n",
       "      <td>4</td>\n",
       "      <td>Mumbai</td>\n",
       "    </tr>\n",
       "    <tr>\n",
       "      <th>1</th>\n",
       "      <td>OD0002</td>\n",
       "      <td>C002</td>\n",
       "      <td>P0001</td>\n",
       "      <td>2021-01-19</td>\n",
       "      <td>350</td>\n",
       "      <td>0.30</td>\n",
       "      <td>245.00</td>\n",
       "      <td>2021-01</td>\n",
       "      <td>Women</td>\n",
       "      <td>Topwear</td>\n",
       "      <td>T-Shirts</td>\n",
       "      <td>Roadster</td>\n",
       "      <td>40</td>\n",
       "      <td>Black</td>\n",
       "      <td>4</td>\n",
       "      <td>Mumbai</td>\n",
       "    </tr>\n",
       "    <tr>\n",
       "      <th>2</th>\n",
       "      <td>OD0003</td>\n",
       "      <td>C003</td>\n",
       "      <td>P0001</td>\n",
       "      <td>2021-10-28</td>\n",
       "      <td>351</td>\n",
       "      <td>0.30</td>\n",
       "      <td>245.70</td>\n",
       "      <td>2021-10</td>\n",
       "      <td>Women</td>\n",
       "      <td>Topwear</td>\n",
       "      <td>T-Shirts</td>\n",
       "      <td>Roadster</td>\n",
       "      <td>40</td>\n",
       "      <td>Black</td>\n",
       "      <td>4</td>\n",
       "      <td>Mumbai</td>\n",
       "    </tr>\n",
       "    <tr>\n",
       "      <th>3</th>\n",
       "      <td>OD0004</td>\n",
       "      <td>C004</td>\n",
       "      <td>P0001</td>\n",
       "      <td>2021-05-20</td>\n",
       "      <td>352</td>\n",
       "      <td>0.25</td>\n",
       "      <td>264.00</td>\n",
       "      <td>2021-05</td>\n",
       "      <td>Women</td>\n",
       "      <td>Topwear</td>\n",
       "      <td>T-Shirts</td>\n",
       "      <td>Roadster</td>\n",
       "      <td>40</td>\n",
       "      <td>Black</td>\n",
       "      <td>4</td>\n",
       "      <td>Pune</td>\n",
       "    </tr>\n",
       "    <tr>\n",
       "      <th>4</th>\n",
       "      <td>OD0005</td>\n",
       "      <td>C005</td>\n",
       "      <td>P0001</td>\n",
       "      <td>2022-11-08</td>\n",
       "      <td>353</td>\n",
       "      <td>0.25</td>\n",
       "      <td>264.75</td>\n",
       "      <td>2022-11</td>\n",
       "      <td>Women</td>\n",
       "      <td>Topwear</td>\n",
       "      <td>T-Shirts</td>\n",
       "      <td>Roadster</td>\n",
       "      <td>40</td>\n",
       "      <td>Black</td>\n",
       "      <td>4</td>\n",
       "      <td>Pune</td>\n",
       "    </tr>\n",
       "    <tr>\n",
       "      <th>...</th>\n",
       "      <td>...</td>\n",
       "      <td>...</td>\n",
       "      <td>...</td>\n",
       "      <td>...</td>\n",
       "      <td>...</td>\n",
       "      <td>...</td>\n",
       "      <td>...</td>\n",
       "      <td>...</td>\n",
       "      <td>...</td>\n",
       "      <td>...</td>\n",
       "      <td>...</td>\n",
       "      <td>...</td>\n",
       "      <td>...</td>\n",
       "      <td>...</td>\n",
       "      <td>...</td>\n",
       "      <td>...</td>\n",
       "    </tr>\n",
       "    <tr>\n",
       "      <th>3495</th>\n",
       "      <td>OD3496</td>\n",
       "      <td>C081</td>\n",
       "      <td>P3071</td>\n",
       "      <td>2023-01-01</td>\n",
       "      <td>685</td>\n",
       "      <td>0.50</td>\n",
       "      <td>342.50</td>\n",
       "      <td>2023-01</td>\n",
       "      <td>Kids</td>\n",
       "      <td>Footwear</td>\n",
       "      <td>Sandals</td>\n",
       "      <td>Campus</td>\n",
       "      <td>3-6M</td>\n",
       "      <td>Charcoal</td>\n",
       "      <td>4</td>\n",
       "      <td>Amritsar</td>\n",
       "    </tr>\n",
       "    <tr>\n",
       "      <th>3496</th>\n",
       "      <td>OD3497</td>\n",
       "      <td>C082</td>\n",
       "      <td>P3071</td>\n",
       "      <td>2022-07-08</td>\n",
       "      <td>707</td>\n",
       "      <td>0.50</td>\n",
       "      <td>353.50</td>\n",
       "      <td>2022-07</td>\n",
       "      <td>Kids</td>\n",
       "      <td>Footwear</td>\n",
       "      <td>Sandals</td>\n",
       "      <td>Campus</td>\n",
       "      <td>3-6M</td>\n",
       "      <td>Charcoal</td>\n",
       "      <td>4</td>\n",
       "      <td>Amritsar</td>\n",
       "    </tr>\n",
       "    <tr>\n",
       "      <th>3497</th>\n",
       "      <td>OD3498</td>\n",
       "      <td>C083</td>\n",
       "      <td>P3071</td>\n",
       "      <td>2021-02-06</td>\n",
       "      <td>1819</td>\n",
       "      <td>0.50</td>\n",
       "      <td>909.50</td>\n",
       "      <td>2021-02</td>\n",
       "      <td>Kids</td>\n",
       "      <td>Footwear</td>\n",
       "      <td>Sandals</td>\n",
       "      <td>Campus</td>\n",
       "      <td>3-6M</td>\n",
       "      <td>Charcoal</td>\n",
       "      <td>4</td>\n",
       "      <td>Patiala</td>\n",
       "    </tr>\n",
       "    <tr>\n",
       "      <th>3498</th>\n",
       "      <td>OD3499</td>\n",
       "      <td>C084</td>\n",
       "      <td>P3071</td>\n",
       "      <td>2021-07-18</td>\n",
       "      <td>856</td>\n",
       "      <td>0.50</td>\n",
       "      <td>428.00</td>\n",
       "      <td>2021-07</td>\n",
       "      <td>Kids</td>\n",
       "      <td>Footwear</td>\n",
       "      <td>Sandals</td>\n",
       "      <td>Campus</td>\n",
       "      <td>3-6M</td>\n",
       "      <td>Charcoal</td>\n",
       "      <td>4</td>\n",
       "      <td>Patiala</td>\n",
       "    </tr>\n",
       "    <tr>\n",
       "      <th>3499</th>\n",
       "      <td>OD3500</td>\n",
       "      <td>C085</td>\n",
       "      <td>P3071</td>\n",
       "      <td>2023-03-15</td>\n",
       "      <td>1404</td>\n",
       "      <td>0.50</td>\n",
       "      <td>702.00</td>\n",
       "      <td>2023-03</td>\n",
       "      <td>Kids</td>\n",
       "      <td>Footwear</td>\n",
       "      <td>Sandals</td>\n",
       "      <td>Campus</td>\n",
       "      <td>3-6M</td>\n",
       "      <td>Charcoal</td>\n",
       "      <td>4</td>\n",
       "      <td>Patiala</td>\n",
       "    </tr>\n",
       "  </tbody>\n",
       "</table>\n",
       "<p>3500 rows × 16 columns</p>\n",
       "</div>"
      ],
      "text/plain": [
       "     Order ID Customer ID Product ID       Date  Original Price  Discount%  \\\n",
       "0      OD0001        C001      P0001 2021-05-20             349       0.30   \n",
       "1      OD0002        C002      P0001 2021-01-19             350       0.30   \n",
       "2      OD0003        C003      P0001 2021-10-28             351       0.30   \n",
       "3      OD0004        C004      P0001 2021-05-20             352       0.25   \n",
       "4      OD0005        C005      P0001 2022-11-08             353       0.25   \n",
       "...       ...         ...        ...        ...             ...        ...   \n",
       "3495   OD3496        C081      P3071 2023-01-01             685       0.50   \n",
       "3496   OD3497        C082      P3071 2022-07-08             707       0.50   \n",
       "3497   OD3498        C083      P3071 2021-02-06            1819       0.50   \n",
       "3498   OD3499        C084      P3071 2021-07-18             856       0.50   \n",
       "3499   OD3500        C085      P3071 2023-03-15            1404       0.50   \n",
       "\n",
       "      Total Price Month-Year Category Sub-category Product Name Brand Name  \\\n",
       "0          244.30    2021-05    Women      Topwear     T-Shirts   Roadster   \n",
       "1          245.00    2021-01    Women      Topwear     T-Shirts   Roadster   \n",
       "2          245.70    2021-10    Women      Topwear     T-Shirts   Roadster   \n",
       "3          264.00    2021-05    Women      Topwear     T-Shirts   Roadster   \n",
       "4          264.75    2022-11    Women      Topwear     T-Shirts   Roadster   \n",
       "...           ...        ...      ...          ...          ...        ...   \n",
       "3495       342.50    2023-01     Kids     Footwear      Sandals     Campus   \n",
       "3496       353.50    2022-07     Kids     Footwear      Sandals     Campus   \n",
       "3497       909.50    2021-02     Kids     Footwear      Sandals     Campus   \n",
       "3498       428.00    2021-07     Kids     Footwear      Sandals     Campus   \n",
       "3499       702.00    2023-03     Kids     Footwear      Sandals     Campus   \n",
       "\n",
       "      Size     Color  Ratings      City  \n",
       "0       40     Black        4    Mumbai  \n",
       "1       40     Black        4    Mumbai  \n",
       "2       40     Black        4    Mumbai  \n",
       "3       40     Black        4      Pune  \n",
       "4       40     Black        4      Pune  \n",
       "...    ...       ...      ...       ...  \n",
       "3495  3-6M  Charcoal        4  Amritsar  \n",
       "3496  3-6M  Charcoal        4  Amritsar  \n",
       "3497  3-6M  Charcoal        4   Patiala  \n",
       "3498  3-6M  Charcoal        4   Patiala  \n",
       "3499  3-6M  Charcoal        4   Patiala  \n",
       "\n",
       "[3500 rows x 16 columns]"
      ]
     },
     "execution_count": 25,
     "metadata": {},
     "output_type": "execute_result"
    }
   ],
   "source": [
    "# Merge orders with customers to include City\n",
    "df = pd.merge(df, customers[[\"Customer ID\", \"City\"]], on=\"Customer ID\", how=\"left\")\n",
    "df"
   ]
  },
  {
   "cell_type": "code",
   "execution_count": 26,
   "metadata": {},
   "outputs": [
    {
     "data": {
      "image/png": "[encoded data removed]",
      "text/plain": [
       "<Figure size 800x500 with 1 Axes>"
      ]
     },
     "metadata": {},
     "output_type": "display_data"
    }
   ],
   "source": [
    "# Sales Performance by City\n",
    "if \"City\" in df.columns:\n",
    "    top_cities = df[\"City\"].value_counts().head(5)\n",
    "    plt.figure(figsize=(8,5))\n",
    "    sns.barplot(x=top_cities.index, y=top_cities.values, hue=top_cities.index, palette=myntra_palette[:len(top_cities)], legend=False)\n",
    "    plt.title(\"Top Cities by Sales Volume\")\n",
    "    plt.ylabel(\"Total Orders\")\n",
    "    plt.xlabel(\"City\")\n",
    "    plt.xticks(rotation=45)\n",
    "    plt.show()\n",
    "else:\n",
    "    print(\"City column not found in dataset. Ensure that the 'customers' table was merged if city data is required.\") "
   ]
  },
  {
   "cell_type": "code",
   "execution_count": 65,
   "metadata": {
    "jupyter": {
     "source_hidden": true
    }
   },
   "outputs": [
    {
     "data": {
      "text/markdown": [
       "### Location-Based Strategy for Higher Sales  \n",
       "**Insight:**  \n",
       "Bengaluru, Ahmedabad, Vadodara, Prayagraj, and Patiala **lead in revenue generation**.  \n",
       "\n",
       "**Recommendation:**  \n",
       "Optimize regional campaigns & logistics for higher efficiency."
      ],
      "text/plain": [
       "<IPython.core.display.Markdown object>"
      ]
     },
     "metadata": {},
     "output_type": "display_data"
    }
   ],
   "source": [
    "display(Markdown(\n",
    "    \"### Location-Based Strategy for Higher Sales  \\n\"\n",
    "    \"**Insight:**  \\n\"\n",
    "    \"Bengaluru, Ahmedabad, Vadodara, Prayagraj, and Patiala **lead in revenue generation**.  \\n\\n\"\n",
    "    \"**Recommendation:**  \\n\"\n",
    "    \"Optimize regional campaigns & logistics for higher efficiency.\"\n",
    "))\n"
   ]
  },
  {
   "cell_type": "code",
   "execution_count": 27,
   "metadata": {},
   "outputs": [],
   "source": [
    "# Categorizing customers into age groups using \"Customer Age\"\n",
    "bins = [18, 25, 35, 45, 55, 65, 100]  \n",
    "labels = [\"18-24\", \"25-34\", \"35-44\", \"45-54\", \"55-64\", \"65+\"]  \n",
    "customers[\"Age Group\"] = pd.cut(customers[\"Customer Age\"], bins=bins, labels=labels, right=False)"
   ]
  },
  {
   "cell_type": "code",
   "execution_count": 28,
   "metadata": {},
   "outputs": [],
   "source": [
    "# Merge Customer Age Group with Orders\n",
    "orders_age = orders.merge(customers[[\"Customer ID\", \"Age Group\"]], on=\"Customer ID\", how=\"left\")\n"
   ]
  },
  {
   "cell_type": "code",
   "execution_count": 29,
   "metadata": {},
   "outputs": [],
   "source": [
    "# Calculate Average Order Value (AOV) per Customer Age Group\n",
    "aov_age = orders_age.groupby(\"Age Group\", observed=False)[\"Total Price\"].mean().sort_index()"
   ]
  },
  {
   "cell_type": "code",
   "execution_count": 31,
   "metadata": {},
   "outputs": [
    {
     "data": {
      "image/png": "[encoded data removed]",
      "text/plain": [
       "<Figure size 1000x500 with 1 Axes>"
      ]
     },
     "metadata": {},
     "output_type": "display_data"
    }
   ],
   "source": [
    "#Average Order Value by Customer Age Group\n",
    "plt.figure(figsize=(10,5))\n",
    "sns.barplot(x=aov_age.index.astype(str), y=aov_age.values, hue=aov_age.index.astype(str), palette=myntra_palette[:len(aov_age)], legend=False)\n",
    "plt.title(\"Average Order Value by Customer Age Group\")\n",
    "plt.xlabel(\"Customer Age Group\")\n",
    "plt.ylabel(\"Average Order Value (INR)\")\n",
    "plt.xticks(rotation=45)\n",
    "plt.show()"
   ]
  },
  {
   "cell_type": "code",
   "execution_count": 66,
   "metadata": {
    "jupyter": {
     "source_hidden": true
    }
   },
   "outputs": [
    {
     "data": {
      "text/markdown": [
       "### High Spending Potential in the 35-44 Age Group  \n",
       "**Insight:**  \n",
       "Customers in the **35-44 age group** have the highest **Average Order Value (AOV)**, indicating a willingness to spend more per transaction.  \n",
       "\n",
       "**Recommendation:**  \n",
       "Introduce premium product lines, exclusive bundles, and personalized recommendations to maximize revenue from this high-value segment."
      ],
      "text/plain": [
       "<IPython.core.display.Markdown object>"
      ]
     },
     "metadata": {},
     "output_type": "display_data"
    }
   ],
   "source": [
    "from IPython.display import display, Markdown\n",
    "display(Markdown(\n",
    "    \"### High Spending Potential in the 35-44 Age Group  \\n\"\n",
    "    \"**Insight:**  \\n\"\n",
    "    \"Customers in the **35-44 age group** have the highest **Average Order Value (AOV)**, indicating a willingness to spend more per transaction.  \\n\\n\"\n",
    "    \"**Recommendation:**  \\n\"\n",
    "    \"Introduce premium product lines, exclusive bundles, and personalized recommendations to maximize revenue from this high-value segment.\"\n",
    "))\n"
   ]
  },
  {
   "cell_type": "code",
   "execution_count": 32,
   "metadata": {},
   "outputs": [],
   "source": [
    "# Binning Discount Brackets for better trend analysis\n",
    "bins = [0, 10, 20, 30, 40, 50, 60, 100]  \n",
    "labels = [\"0-10%\", \"10-20%\", \"20-30%\", \"30-40%\", \"40-50%\", \"50-60%\", \"60%+\"]\n",
    "\n",
    "orders[\"Discount Bracket\"] = pd.cut(orders[\"Discount%\"] * 100, bins=bins, labels=labels, right=False)\n",
    "orders[\"Discount%\"] = orders[\"Discount%\"].astype(float)\n",
    "orders[\"Discount%\"] = pd.to_numeric(orders[\"Discount%\"], errors=\"coerce\")\n"
   ]
  },
  {
   "cell_type": "code",
   "execution_count": 33,
   "metadata": {},
   "outputs": [],
   "source": [
    "# Aggregating revenue per Discount Bracket\n",
    "discount_revenue = orders.groupby(\"Discount%\")[[\"Total Price\"]].sum().rename(columns={\"Total Price\": \"Total Revenue\"})"
   ]
  },
  {
   "cell_type": "code",
   "execution_count": 35,
   "metadata": {},
   "outputs": [
    {
     "data": {
      "image/png": "[encoded data removed]",
      "text/plain": [
       "<Figure size 1000x500 with 1 Axes>"
      ]
     },
     "metadata": {},
     "output_type": "display_data"
    }
   ],
   "source": [
    "# Revenue per Discount Bracket\n",
    "plt.figure(figsize=(10,5))\n",
    "sns.lineplot(x=discount_revenue.index, y=discount_revenue[\"Total Revenue\"], marker='o', color=myntra_palette[0])\n",
    "plt.title(\"Revenue per Discount Bracket\")\n",
    "plt.xlabel(\"Discount Percentage\")\n",
    "plt.ylabel(\"Total Revenue (INR)\")\n",
    "plt.show()\n"
   ]
  },
  {
   "cell_type": "code",
   "execution_count": 67,
   "metadata": {
    "jupyter": {
     "source_hidden": true
    }
   },
   "outputs": [
    {
     "data": {
      "text/markdown": [
       "### 3️⃣ Optimal Discount Strategy  \n",
       "**Insight:**  \n",
       "The **30-40% discount range** yields the highest revenue (₹918,682.51). However, the **30% discount bracket sees a revenue spike** due to 43 high-value orders, suggesting a potential outlier or targeted pricing advantage.  \n",
       "\n",
       "**Recommendation:**  \n",
       "Analyze outliers further and refine discounting strategies to maximize profitability."
      ],
      "text/plain": [
       "<IPython.core.display.Markdown object>"
      ]
     },
     "metadata": {},
     "output_type": "display_data"
    }
   ],
   "source": [
    "display(Markdown(\n",
    "    \"### Optimal Discount Strategy  \\n\"\n",
    "    \"**Insight:**  \\n\"\n",
    "    \"The **30-40% discount range** yields the highest revenue (₹918,682.51). However, the **30% discount bracket sees a revenue spike** due to 43 high-value orders, suggesting a potential outlier or targeted pricing advantage.  \\n\\n\"\n",
    "    \"**Recommendation:**  \\n\"\n",
    "    \"Analyze outliers further and refine discounting strategies to maximize profitability.\"\n",
    "))\n"
   ]
  },
  {
   "cell_type": "code",
   "execution_count": 36,
   "metadata": {},
   "outputs": [],
   "source": [
    "# Group by Category using the merged dataframe 'df'\n",
    "aov_category = df.groupby(\"Category\")[\"Total Price\"].mean().sort_values(ascending=False)"
   ]
  },
  {
   "cell_type": "code",
   "execution_count": 68,
   "metadata": {},
   "outputs": [
    {
     "data": {
      "image/png": "[encoded data removed]",
      "text/plain": [
       "<Figure size 1000x500 with 1 Axes>"
      ]
     },
     "metadata": {},
     "output_type": "display_data"
    }
   ],
   "source": [
    "#AOV per Category\n",
    "plt.figure(figsize=(10,5))\n",
    "sns.barplot(x=aov_category.index, y=aov_category.values, palette=myntra_palette[:len(aov_category)], hue=aov_category.index, legend=False)\n",
    "plt.title(\"Average Order Value (AOV) per Category\")\n",
    "plt.xlabel(\"Category\")\n",
    "plt.ylabel(\"Average Order Value (INR)\")\n",
    "plt.xticks(rotation=45)\n",
    "plt.show()\n",
    "\n"
   ]
  },
  {
   "cell_type": "code",
   "execution_count": 69,
   "metadata": {
    "jupyter": {
     "source_hidden": true
    }
   },
   "outputs": [
    {
     "data": {
      "text/markdown": [
       "### Kids' Category = High Spending Potential  \n",
       "**Insight:**  \n",
       "The **highest Average Order Value (AOV) is in the Kids’ category**.  \n",
       "\n",
       "**Recommendation:**  \n",
       "Expand premium product lines to capture higher-margin sales."
      ],
      "text/plain": [
       "<IPython.core.display.Markdown object>"
      ]
     },
     "metadata": {},
     "output_type": "display_data"
    }
   ],
   "source": [
    "display(Markdown(\n",
    "    \"### Kids' Category = High Spending Potential  \\n\"\n",
    "    \"**Insight:**  \\n\"\n",
    "    \"The **highest Average Order Value (AOV) is in the Kids’ category**.  \\n\\n\"\n",
    "    \"**Recommendation:**  \\n\"\n",
    "    \"Expand premium product lines to capture higher-margin sales.\"\n",
    "))\n"
   ]
  },
  {
   "cell_type": "code",
   "execution_count": 38,
   "metadata": {},
   "outputs": [],
   "source": [
    "# Calculated total sales per brand\n",
    "brand_sales = df.groupby(\"Brand Name\")[\"Total Price\"].sum()"
   ]
  },
  {
   "cell_type": "code",
   "execution_count": 39,
   "metadata": {},
   "outputs": [],
   "source": [
    "# Get top 5 brands based on total sales\n",
    "top_5_brands = brand_sales.nlargest(5).index"
   ]
  },
  {
   "cell_type": "code",
   "execution_count": 40,
   "metadata": {},
   "outputs": [],
   "source": [
    "# Filtered dataset to include only top 5 brands\n",
    "df_top_brands = df[df[\"Brand Name\"].isin(top_5_brands)]"
   ]
  },
  {
   "cell_type": "code",
   "execution_count": 41,
   "metadata": {},
   "outputs": [],
   "source": [
    "# Group by Brand & Category, count orders, and sort by total sales\n",
    "brand_category = (\n",
    "    df_top_brands.groupby([\"Brand Name\", \"Category\"])\n",
    "    .size()\n",
    "    .unstack()\n",
    "    .fillna(0)\n",
    "    .loc[top_5_brands]  # Ensure brands are sorted by total sales\n",
    ")"
   ]
  },
  {
   "cell_type": "code",
   "execution_count": 42,
   "metadata": {},
   "outputs": [
    {
     "data": {
      "image/png": "[encoded data removed]",
      "text/plain": [
       "<Figure size 1000x500 with 2 Axes>"
      ]
     },
     "metadata": {},
     "output_type": "display_data"
    }
   ],
   "source": [
    "# Brand vs. Category Performance (Top 5 Brands)\n",
    "plt.figure(figsize=(10, 5))\n",
    "sns.heatmap(brand_category, cmap=sns.light_palette(\"#ff3f6c\", as_cmap=True), annot=True, fmt='.0f', linewidths=0.5)\n",
    "plt.title(\"Top 5 Brands vs Category Performance (Sorted by Sales)\")\n",
    "plt.xlabel(\"Category\")\n",
    "plt.ylabel(\"Brand\")\n",
    "plt.show()  \n"
   ]
  },
  {
   "cell_type": "code",
   "execution_count": 70,
   "metadata": {
    "jupyter": {
     "source_hidden": true
    }
   },
   "outputs": [
    {
     "data": {
      "text/markdown": [
       "### 🔥 Top 5 Brands vs. Category Performance 🔥  \n",
       "**Insight:**  \n",
       "- **Puma** dominates the **Men's category** with the highest sales (170).  \n",
       "- **H&M** maintains a balanced presence across **all three categories**.  \n",
       "- **Roadster** and **Adidas** perform strongly in **Men’s** but underperform in **Kids & Women**.  \n",
       "- **Here&Now** has **zero sales** in **Men's category**, indicating a brand positioning gap.  \n",
       "\n",
       "**Recommendation:**  \n",
       "- Focus on **Men’s category expansion** for Roadster and Adidas.  \n",
       "- Explore why **Here&Now lacks presence in Men's category** and adjust marketing.  \n",
       "- Leverage **Puma’s success in Men’s category** for targeted promotions."
      ],
      "text/plain": [
       "<IPython.core.display.Markdown object>"
      ]
     },
     "metadata": {},
     "output_type": "display_data"
    }
   ],
   "source": [
    "from IPython.display import display, Markdown\n",
    "display(Markdown(\n",
    "    \"### 🔥 Top 5 Brands vs. Category Performance 🔥  \\n\"\n",
    "    \"**Insight:**  \\n\"\n",
    "    \"- **Puma** dominates the **Men's category** with the highest sales (170).  \\n\"\n",
    "    \"- **H&M** maintains a balanced presence across **all three categories**.  \\n\"\n",
    "    \"- **Roadster** and **Adidas** perform strongly in **Men’s** but underperform in **Kids & Women**.  \\n\"\n",
    "    \"- **Here&Now** has **zero sales** in **Men's category**, indicating a brand positioning gap.  \\n\\n\"\n",
    "    \"**Recommendation:**  \\n\"\n",
    "    \"- Focus on **Men’s category expansion** for Roadster and Adidas.  \\n\"\n",
    "    \"- Explore why **Here&Now lacks presence in Men's category** and adjust marketing.  \\n\"\n",
    "    \"- Leverage **Puma’s success in Men’s category** for targeted promotions.\"\n",
    "))\n"
   ]
  },
  {
   "cell_type": "code",
   "execution_count": 43,
   "metadata": {},
   "outputs": [
    {
     "data": {
      "image/png": "[encoded data removed]",
      "text/plain": [
       "<Figure size 800x500 with 1 Axes>"
      ]
     },
     "metadata": {},
     "output_type": "display_data"
    }
   ],
   "source": [
    "# Weekday vs. Weekend Sales\n",
    "orders[\"Weekday\"] = orders[\"Date\"].dt.dayofweek\n",
    "weekday_sales = orders.groupby(\"Weekday\")[\"Order ID\"].count()\n",
    "plt.figure(figsize=(8,5))\n",
    "sns.barplot(x=[\"Mon\", \"Tue\", \"Wed\", \"Thu\", \"Fri\", \"Sat\", \"Sun\"], y=weekday_sales.values, hue=[\"Mon\", \"Tue\", \"Wed\", \"Thu\", \"Fri\", \"Sat\", \"Sun\"], palette=myntra_palette[:7], legend=False)\n",
    "plt.title(\"Sales Volume: Weekdays vs Weekends\")\n",
    "plt.ylabel(\"Total Orders\")\n",
    "plt.show()"
   ]
  },
  {
   "cell_type": "code",
   "execution_count": 71,
   "metadata": {
    "jupyter": {
     "source_hidden": true
    }
   },
   "outputs": [
    {
     "data": {
      "text/markdown": [
       "### 6️⃣ Weekdays Outperform Weekends in Sales  \n",
       "**Insight:**  \n",
       "Weekday revenue (₹1.31M) is **more than double** weekend revenue (₹576K).  \n",
       "\n",
       "**Recommendation:**  \n",
       "Increase weekday ad budgets & flash sales to maximize conversions."
      ],
      "text/plain": [
       "<IPython.core.display.Markdown object>"
      ]
     },
     "metadata": {},
     "output_type": "display_data"
    }
   ],
   "source": [
    "display(Markdown(\n",
    "    \"### 6️⃣ Weekdays Outperform Weekends in Sales  \\n\"\n",
    "    \"**Insight:**  \\n\"\n",
    "    \"Weekday revenue (₹1.31M) is **more than double** weekend revenue (₹576K).  \\n\\n\"\n",
    "    \"**Recommendation:**  \\n\"\n",
    "    \"Increase weekday ad budgets & flash sales to maximize conversions.\"\n",
    "))\n"
   ]
  },
  {
   "cell_type": "code",
   "execution_count": 44,
   "metadata": {},
   "outputs": [
    {
     "data": {
      "image/png": "[encoded data removed]",
      "text/plain": [
       "<Figure size 1200x600 with 1 Axes>"
      ]
     },
     "metadata": {},
     "output_type": "display_data"
    }
   ],
   "source": [
    "# Monthly Revenue Trend\n",
    "plt.figure(figsize=(12,6))\n",
    "sns.lineplot(x=gb.index, y=gb[\"Total Revenue\"], marker=\"o\", color=myntra_palette[1], linewidth=2)\n",
    "plt.title(\"Myntra Monthly Revenue Trend (YYYY-MM)\", fontsize=14, fontweight=\"bold\")\n",
    "plt.xlabel(\"Month-Year\", fontsize=12)\n",
    "plt.ylabel(\"Total Revenue (INR)\", fontsize=12)\n",
    "plt.xticks(rotation=45, ha='right')\n",
    "plt.grid(True, linestyle='--', alpha=0.6)\n",
    "plt.show()"
   ]
  },
  {
   "cell_type": "code",
   "execution_count": 72,
   "metadata": {
    "jupyter": {
     "source_hidden": true
    }
   },
   "outputs": [
    {
     "data": {
      "text/markdown": [
       "### 8️⃣ Seasonal Trends Demand Stock Planning  \n",
       "**Insight:**  \n",
       "Revenue **fluctuates across months**, highlighting the importance of seasonality.  \n",
       "\n",
       "**Recommendation:**  \n",
       "Plan seasonal discounts, inventory levels, and marketing shifts to maximize high-revenue periods."
      ],
      "text/plain": [
       "<IPython.core.display.Markdown object>"
      ]
     },
     "metadata": {},
     "output_type": "display_data"
    }
   ],
   "source": [
    "display(Markdown(\n",
    "    \"### 8️⃣ Seasonal Trends Demand Stock Planning  \\n\"\n",
    "    \"**Insight:**  \\n\"\n",
    "    \"Revenue **fluctuates across months**, highlighting the importance of seasonality.  \\n\\n\"\n",
    "    \"**Recommendation:**  \\n\"\n",
    "    \"Plan seasonal discounts, inventory levels, and marketing shifts to maximize high-revenue periods.\"\n",
    "))\n"
   ]
  },
  {
   "cell_type": "code",
   "execution_count": 58,
   "metadata": {},
   "outputs": [
    {
     "data": {
      "image/png": "[encoded data removed]",
      "text/plain": [
       "<Figure size 1000x500 with 1 Axes>"
      ]
     },
     "metadata": {},
     "output_type": "display_data"
    }
   ],
   "source": [
    "# Top 06 Customers by Revenue Contribution\n",
    "top_customers = customer_revenue.head(10)  \n",
    "\n",
    "plt.figure(figsize=(10,5))\n",
    "sns.barplot(x=top_customers.index, y=top_customers.values, hue=top_customers.index, palette=myntra_palette[:len(top_customers)], legend=False)\n",
    "plt.title(\"Top 10 Customers by Revenue Contribution\")\n",
    "plt.xlabel(\"Customer ID\")\n",
    "plt.ylabel(\"Total Revenue (INR)\")\n",
    "plt.xticks(rotation=45)\n",
    "plt.show()\n"
   ]
  },
  {
   "cell_type": "code",
   "execution_count": 73,
   "metadata": {
    "jupyter": {
     "source_hidden": true
    }
   },
   "outputs": [
    {
     "data": {
      "text/markdown": [
       "### Loyal Customers = Higher Profits  \n",
       "**Insight:**  \n",
       "The top 10% of customers contribute 12.57% of total revenue.  \n",
       "\n",
       "**Recommendation:**  \n",
       "Launch personalized loyalty programs to increase repeat purchases."
      ],
      "text/plain": [
       "<IPython.core.display.Markdown object>"
      ]
     },
     "metadata": {},
     "output_type": "display_data"
    }
   ],
   "source": [
    "display(Markdown(\n",
    "    \"### Loyal Customers = Higher Profits  \\n\"\n",
    "    \"**Insight:**  \\n\"\n",
    "    \"The top 10% of customers contribute 12.57% of total revenue.  \\n\\n\"\n",
    "    \"**Recommendation:**  \\n\"\n",
    "    \"Launch personalized loyalty programs to increase repeat purchases.\"\n",
    "))\n"
   ]
  },
  {
   "cell_type": "code",
   "execution_count": 74,
   "metadata": {
    "jupyter": {
     "source_hidden": true
    }
   },
   "outputs": [
    {
     "data": {
      "text/markdown": [
       "## 📈 Business Impact & Future Strategy  \n",
       "Our data-driven approach reveals:  \n",
       "- 🚀 Revenue growth opportunities in **loyalty programs & premium categories**  \n",
       "- 🎯 Better ad-spend allocation to **weekday promotions**  \n",
       "- 🔍 Smarter stock planning for **top-performing brands & locations**  \n",
       "___  \n",
       "💡 **Next Steps:** Optimize marketing, pricing, and inventory strategies to **maximize profits!**"
      ],
      "text/plain": [
       "<IPython.core.display.Markdown object>"
      ]
     },
     "metadata": {},
     "output_type": "display_data"
    }
   ],
   "source": [
    "display(Markdown(\n",
    "    \"## 📈 Business Impact & Future Strategy  \\n\"\n",
    "    \"Our data-driven approach reveals:  \\n\"\n",
    "    \"- 🚀 Revenue growth opportunities in **loyalty programs & premium categories**  \\n\"\n",
    "    \"- 🎯 Better ad-spend allocation to **weekday promotions**  \\n\"\n",
    "    \"- 🔍 Smarter stock planning for **top-performing brands & locations**  \\n\"\n",
    "    \"___  \\n\"\n",
    "    \"💡 **Next Steps:** Optimize marketing, pricing, and inventory strategies to **maximize profits!**\"\n",
    "))\n"
   ]
  },
  {
   "cell_type": "code",
   "execution_count": null,
   "metadata": {},
   "outputs": [],
   "source": []
  }
 ],
 "metadata": {
  "colab": {
   "authorship_tag": "ABX9TyMMj6Gjiqlff/T6ukPl9gJQ",
   "include_colab_link": true,
   "provenance": []
  },
  "kernelspec": {
   "display_name": "Python 3 (ipykernel)",
   "language": "python",
   "name": "python3"
  },
  "language_info": {
   "codemirror_mode": {
    "name": "ipython",
    "version": 3
   },
   "file_extension": ".py",
   "mimetype": "text/x-python",
   "name": "python",
   "nbconvert_exporter": "python",
   "pygments_lexer": "ipython3",
   "version": "3.13.1"
  }
 },
 "nbformat": 4,
 "nbformat_minor": 4
}
